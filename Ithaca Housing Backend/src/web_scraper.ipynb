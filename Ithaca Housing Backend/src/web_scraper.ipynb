{
 "cells": [
  {
   "cell_type": "code",
   "execution_count": 1,
   "metadata": {},
   "outputs": [
    {
     "name": "stdout",
     "output_type": "stream",
     "text": [
      "Requirement already satisfied: selenium in /anaconda3/lib/python3.6/site-packages (3.141.0)\r\n",
      "Requirement already satisfied: urllib3 in /anaconda3/lib/python3.6/site-packages (from selenium) (1.22)\r\n"
     ]
    }
   ],
   "source": [
    "! pip install selenium"
   ]
  },
  {
   "cell_type": "code",
   "execution_count": 2,
   "metadata": {},
   "outputs": [],
   "source": [
    "# import BeautifulSoup4\n",
    "from selenium import webdriver\n",
    "from selenium.webdriver.chrome.options import Options\n",
    "# import urllib2\n",
    "from bs4 import BeautifulSoup\n",
    "import requests\n",
    "import urllib\n",
    "import json"
   ]
  },
  {
   "cell_type": "code",
   "execution_count": 35,
   "metadata": {},
   "outputs": [],
   "source": [
    "base_url = 'https://ithaca.craigslist.org/search/apa'\n",
    "house_list = [] # list of dicts\n",
    "num_pages = 16"
   ]
  },
  {
   "cell_type": "code",
   "execution_count": 37,
   "metadata": {},
   "outputs": [
    {
     "name": "stdout",
     "output_type": "stream",
     "text": [
      "16.008333333333333\n"
     ]
    }
   ],
   "source": [
    "page = urllib.request.urlopen(base_url)\n",
    "soup = BeautifulSoup(page, 'html.parser')\n",
    "num_tag = soup.find('span', attrs={'class':'totalcount'})\n",
    "if num_tag is not None:\n",
    "    num_houses = int(num_tag.text)\n",
    "    num_pages = num_houses/120\n",
    "\n",
    "print(num_pages)"
   ]
  },
  {
   "cell_type": "code",
   "execution_count": 30,
   "metadata": {},
   "outputs": [],
   "source": [
    "def add_house_dicts(info):\n",
    "    global house_list\n",
    "    for i in info:\n",
    "        description = i.find('a', attrs={'class':'result-title hdrlnk'}).text  # description\n",
    "        postdate = i.find('time', attrs={'class':'result-date'}).text  # post date\n",
    "        \n",
    "        try:\n",
    "            price = i.find('span', attrs={'class':'result-price'}).text # price\n",
    "            price = int(price[1:])\n",
    "        except:\n",
    "            price = -1\n",
    "        \n",
    "        try:\n",
    "            house_type = i.find('span', attrs={'class':'housing'}).text # type and size\n",
    "            strs = house_type.split(' ')\n",
    "            house_type = ''\n",
    "            for s in strs:\n",
    "                if (len(s)>0 and s[0].isdigit()):\n",
    "                    house_type = house_type + s+' '\n",
    "        except:\n",
    "            house_type = 'Please click link for type and size information'\n",
    "\n",
    "        try:\n",
    "            location = i.find('span', attrs={'class':'result-hood'}).text # location\n",
    "            try:\n",
    "                location = location.strip(' (').strip(')')\n",
    "            except:\n",
    "                pass\n",
    "        except:\n",
    "            location = 'Please click link for location information'\n",
    "            \n",
    "        try:\n",
    "            url = i.find('a', attrs={'class':'result-image gallery'})['href'] # house info url\n",
    "        except:\n",
    "            url = 'Sorry, there\\'s no link to the house info' \n",
    "                      \n",
    "        try:\n",
    "            house_page = urllib.request.urlopen(url)\n",
    "            soup = BeautifulSoup(house_page, 'html.parser')\n",
    "            img_url = soup.find('img', attrs={'title':'1', 'alt':'1'})['src']  # image url\n",
    "        except:\n",
    "            img_url = \"Please click link for house images\"\n",
    "        \n",
    "        \n",
    "        # construct house dict\n",
    "        house = {}\n",
    "        house['location'] = location\n",
    "        house['price'] = price\n",
    "        house['imageUrl'] = img_url\n",
    "        house['description'] = description\n",
    "        house['type'] = house_type\n",
    "        house['postdate'] = postdate\n",
    "        house['url'] = url\n",
    "        \n",
    "        house_list.append(house)\n",
    "#         print(house)\n",
    "#         print()"
   ]
  },
  {
   "cell_type": "code",
   "execution_count": 31,
   "metadata": {},
   "outputs": [],
   "source": [
    "def get_from_url(url):\n",
    "    global house_list\n",
    "    page = urllib.request.urlopen(url)\n",
    "    soup = BeautifulSoup(page, 'html.parser')\n",
    "    info = soup.find_all('li', attrs={'class':'result-row'})\n",
    "    add_house_dicts(info)"
   ]
  },
  {
   "cell_type": "code",
   "execution_count": 32,
   "metadata": {},
   "outputs": [],
   "source": [
    "def get_all_data():\n",
    "    global house_list\n",
    "    \n",
    "    for i in range(num_pages):\n",
    "        try:           \n",
    "            get_from_url(base_url + ('' if i==0 else ('?s='+str(i*120))) )\n",
    "            print('successfully parse page', i)\n",
    "        except:\n",
    "            continue\n",
    "    \n",
    "    print(len(house_list)) "
   ]
  },
  {
   "cell_type": "code",
   "execution_count": 33,
   "metadata": {},
   "outputs": [
    {
     "name": "stdout",
     "output_type": "stream",
     "text": [
      "successfully parse page 0\n",
      "2520\n",
      "done\n"
     ]
    }
   ],
   "source": [
    "get_all_data()\n",
    "print('done')"
   ]
  },
  {
   "cell_type": "code",
   "execution_count": 34,
   "metadata": {},
   "outputs": [],
   "source": [
    "with open('house.json', 'w') as outfile:\n",
    "    json.dump(house_list, outfile)"
   ]
  },
  {
   "cell_type": "code",
   "execution_count": null,
   "metadata": {},
   "outputs": [],
   "source": [
    "# # use selenium to get dynamic html context\n",
    "# options = Options()\n",
    "# options.add_argument('--headless')\n",
    "# options.add_argument('--disable-gpu')\n",
    "# # driver = webdriver.Chrome(chrome_options=options)\n",
    "# driver = webdriver.Chrome(executable_path='/Users/maoyue/Desktop/ithaca_housing_ios/Ithaca\\ Housing\\ Backend/src/chromedriver')\n",
    "# driver.get(url)\n",
    "# time.sleep(3)\n",
    "# page = driver.page_source\n",
    "# driver.quit()\n",
    "# soup = BeautifulSoup(page, 'html.parser')"
   ]
  },
  {
   "cell_type": "code",
   "execution_count": null,
   "metadata": {},
   "outputs": [],
   "source": []
  }
 ],
 "metadata": {
  "kernelspec": {
   "display_name": "Python 3",
   "language": "python",
   "name": "python3"
  },
  "language_info": {
   "codemirror_mode": {
    "name": "ipython",
    "version": 3
   },
   "file_extension": ".py",
   "mimetype": "text/x-python",
   "name": "python",
   "nbconvert_exporter": "python",
   "pygments_lexer": "ipython3",
   "version": "3.6.5"
  }
 },
 "nbformat": 4,
 "nbformat_minor": 2
}
